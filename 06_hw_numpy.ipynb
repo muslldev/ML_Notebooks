{
  "cells": [
    {
      "cell_type": "markdown",
      "metadata": {
        "id": "ob1Hm_b0E09R"
      },
      "source": [
        "# Домашняя работа. Numpy\n",
        "\n",
        "1. Скачайте этот ноутбук к себе.\n",
        "2. Заполните пропущенные ячейки, отвечая на заданные вопросы. Там должен быть код! (если не сказано обратное)\n",
        "3. Сохраните результат в своём гитхаб репозитории.\n",
        "\n",
        "#### Полезная литература\n",
        "\n",
        "- http://www.numpy.org/\n",
        "- https://jakevdp.github.io/PythonDataScienceHandbook/02.00-introduction-to-numpy.html\n",
        "- https://docs.scipy.org/doc/numpy/user/quickstart.html"
      ]
    },
    {
      "cell_type": "markdown",
      "metadata": {
        "id": "MLs2J7VnE09V"
      },
      "source": [
        "1) Импортировать numpy и написать версию"
      ]
    },
    {
      "cell_type": "code",
      "execution_count": null,
      "metadata": {
        "colab": {
          "base_uri": "https://localhost:8080/",
          "height": 35
        },
        "id": "mnbh4s75E09W",
        "outputId": "569e3679-abbe-460e-ca93-4163745dd51b"
      },
      "outputs": [
        {
          "output_type": "execute_result",
          "data": {
            "text/plain": [
              "'1.26.4'"
            ],
            "application/vnd.google.colaboratory.intrinsic+json": {
              "type": "string"
            }
          },
          "metadata": {},
          "execution_count": 3
        }
      ],
      "source": [
        "import numpy as np\n",
        "np.__version__"
      ]
    },
    {
      "cell_type": "markdown",
      "metadata": {
        "id": "YBS4uDvvE09X"
      },
      "source": [
        "2) Создать нулевой вектор размера 10"
      ]
    },
    {
      "cell_type": "code",
      "execution_count": null,
      "metadata": {
        "colab": {
          "base_uri": "https://localhost:8080/"
        },
        "id": "JX4xXfSSE09Y",
        "outputId": "437b6826-c4da-4556-b496-7adee445c438"
      },
      "outputs": [
        {
          "output_type": "execute_result",
          "data": {
            "text/plain": [
              "array([[0, 0, 0, 0, 0, 0, 0, 0, 0, 0]])"
            ]
          },
          "metadata": {},
          "execution_count": 24
        }
      ],
      "source": [
        "import numpy as np\n",
        "zero_vector = np.full([1,10],0)\n",
        "zero_vector"
      ]
    },
    {
      "cell_type": "markdown",
      "metadata": {
        "id": "fuhYb7nKE09a"
      },
      "source": [
        "3) Создать вектор заполненный 7-ами размера 7"
      ]
    },
    {
      "cell_type": "code",
      "execution_count": null,
      "metadata": {
        "colab": {
          "base_uri": "https://localhost:8080/"
        },
        "id": "-aBVYJgXE09b",
        "outputId": "5253cc2a-a253-498f-c11f-21e406404163"
      },
      "outputs": [
        {
          "output_type": "execute_result",
          "data": {
            "text/plain": [
              "array([[7, 7, 7, 7, 7, 7, 7]])"
            ]
          },
          "metadata": {},
          "execution_count": 2
        }
      ],
      "source": [
        "import numpy as np\n",
        "vector = np.full([1,7],7,dtype=int)\n",
        "vector"
      ]
    },
    {
      "cell_type": "markdown",
      "metadata": {
        "id": "pfyOyxOME09b"
      },
      "source": [
        "4) Создать вектор заполненный четными числами от 10 до 100"
      ]
    },
    {
      "cell_type": "code",
      "execution_count": null,
      "metadata": {
        "id": "d4Vg7EpEE09d",
        "colab": {
          "base_uri": "https://localhost:8080/"
        },
        "outputId": "7935307c-27aa-4b76-eeb8-240014a044ed"
      },
      "outputs": [
        {
          "output_type": "execute_result",
          "data": {
            "text/plain": [
              "array([ 10,  12,  14,  16,  18,  20,  22,  24,  26,  28,  30,  32,  34,\n",
              "        36,  38,  40,  42,  44,  46,  48,  50,  52,  54,  56,  58,  60,\n",
              "        62,  64,  66,  68,  70,  72,  74,  76,  78,  80,  82,  84,  86,\n",
              "        88,  90,  92,  94,  96,  98, 100])"
            ]
          },
          "metadata": {},
          "execution_count": 5
        }
      ],
      "source": [
        "import numpy as np\n",
        "even_nums = np.arange(10,101,2)\n",
        "even_nums"
      ]
    },
    {
      "cell_type": "markdown",
      "metadata": {
        "id": "5uuP2RrNE09f"
      },
      "source": [
        "5) Создать массив случайных чисел и развернуть его задом наперёд"
      ]
    },
    {
      "cell_type": "code",
      "execution_count": null,
      "metadata": {
        "id": "lo2QUJH5E09g",
        "colab": {
          "base_uri": "https://localhost:8080/"
        },
        "outputId": "d6aff99c-8b23-48d5-d9da-b94f93170a74"
      },
      "outputs": [
        {
          "output_type": "execute_result",
          "data": {
            "text/plain": [
              "(array([0.5291886 , 0.75450813, 0.43110216, 0.30299293, 0.94436541]),\n",
              " array([0.94436541, 0.30299293, 0.43110216, 0.75450813, 0.5291886 ]))"
            ]
          },
          "metadata": {},
          "execution_count": 9
        }
      ],
      "source": [
        "import numpy as np\n",
        "random_arr = np.random.rand(5)\n",
        "reverse_arr = np.flip(random_arr)\n",
        "reverse_arr,random_arr"
      ]
    },
    {
      "cell_type": "markdown",
      "metadata": {
        "id": "bHn_s-0-E09h"
      },
      "source": [
        "6) Создать двумерную матрицу размера 3 на 3, заполненную числами от 0 до 9"
      ]
    },
    {
      "cell_type": "code",
      "execution_count": 47,
      "metadata": {
        "id": "e98U6ye6E09h",
        "colab": {
          "base_uri": "https://localhost:8080/"
        },
        "outputId": "543cfc72-1f76-4f63-ae34-1af0c4269ff0"
      },
      "outputs": [
        {
          "output_type": "execute_result",
          "data": {
            "text/plain": [
              "array([[0, 1, 2],\n",
              "       [3, 4, 5],\n",
              "       [6, 7, 8]])"
            ]
          },
          "metadata": {},
          "execution_count": 47
        }
      ],
      "source": [
        "import numpy as np\n",
        "matrix = np.arange(0,9,1)\n",
        "res = matrix.reshape((3,3))\n",
        "res"
      ]
    },
    {
      "cell_type": "markdown",
      "metadata": {
        "id": "tXTOgUiuE09h"
      },
      "source": [
        "7) Создать матрицу размера 4 на 4 с единицами на диагонали смещеной на один наверх."
      ]
    },
    {
      "cell_type": "code",
      "execution_count": null,
      "metadata": {
        "id": "Yu2TsnlWE09h",
        "colab": {
          "base_uri": "https://localhost:8080/"
        },
        "outputId": "9ee90e22-a41a-4c62-b3bd-d8f4123db244"
      },
      "outputs": [
        {
          "output_type": "execute_result",
          "data": {
            "text/plain": [
              "array([[0., 1., 0., 0.],\n",
              "       [0., 0., 1., 0.],\n",
              "       [0., 0., 0., 1.],\n",
              "       [0., 0., 0., 0.]])"
            ]
          },
          "metadata": {},
          "execution_count": 10
        }
      ],
      "source": [
        "import numpy as np\n",
        "matrix = np.eye(4,k=1)\n",
        "matrix"
      ]
    },
    {
      "cell_type": "markdown",
      "metadata": {
        "id": "EFKApnYuE09i"
      },
      "source": [
        "8) Создать матрицу с числами в диапазоне от 1 до 4 по диагонали. В других ячейках матрицы должны быть семерки."
      ]
    },
    {
      "cell_type": "code",
      "execution_count": null,
      "metadata": {
        "id": "Fn8VVu9mE09i",
        "colab": {
          "base_uri": "https://localhost:8080/"
        },
        "outputId": "540ee2af-bb1a-49af-9975-053effbe79c2"
      },
      "outputs": [
        {
          "output_type": "execute_result",
          "data": {
            "text/plain": [
              "array([[1, 7, 7, 7],\n",
              "       [7, 2, 7, 7],\n",
              "       [7, 7, 3, 7],\n",
              "       [7, 7, 7, 4]])"
            ]
          },
          "metadata": {},
          "execution_count": 11
        }
      ],
      "source": [
        "import numpy as np\n",
        "matrix = np.full([4,4],7)\n",
        "np.fill_diagonal(matrix,[1,2,3,4])\n",
        "matrix"
      ]
    },
    {
      "cell_type": "markdown",
      "metadata": {
        "id": "hpGzd6uKE09j"
      },
      "source": [
        "9) Создать матрицу размера 5 на 5 заполненную чилами от 0 до 4 в строках."
      ]
    },
    {
      "cell_type": "code",
      "execution_count": null,
      "metadata": {
        "id": "v6JkWGzrE09k",
        "colab": {
          "base_uri": "https://localhost:8080/"
        },
        "outputId": "0d32c63f-5f42-445b-91ac-aa53be080a48"
      },
      "outputs": [
        {
          "output_type": "execute_result",
          "data": {
            "text/plain": [
              "array([[0, 1, 2, 3, 4],\n",
              "       [0, 1, 2, 3, 4],\n",
              "       [0, 1, 2, 3, 4],\n",
              "       [0, 1, 2, 3, 4],\n",
              "       [0, 1, 2, 3, 4]])"
            ]
          },
          "metadata": {},
          "execution_count": 14
        }
      ],
      "source": [
        "import numpy as np\n",
        "matrix = np.tile(np.arange(5),(5,1))\n",
        "matrix"
      ]
    },
    {
      "cell_type": "markdown",
      "metadata": {
        "id": "kRuUStpmE09k"
      },
      "source": [
        "10) Создать матрицу случайных чисел размера 10 на 10 и отнять среднее по строкам из каждого элемента строки"
      ]
    },
    {
      "cell_type": "code",
      "execution_count": null,
      "metadata": {
        "id": "NAKEhSgxE09m",
        "colab": {
          "base_uri": "https://localhost:8080/"
        },
        "outputId": "56482b5e-aa01-4c09-a55f-6b57923e469a"
      },
      "outputs": [
        {
          "output_type": "execute_result",
          "data": {
            "text/plain": [
              "array([[-0.32811626, -0.11532257, -0.12393651, -0.23659911,  0.33160607,\n",
              "        -0.00433166, -0.29316605,  0.05951808,  0.44515647,  0.26519155],\n",
              "       [-0.16849116, -0.32081265, -0.32249146,  0.08347338,  0.08568286,\n",
              "         0.30665108,  0.3269523 ,  0.01980136,  0.371403  , -0.38216872],\n",
              "       [ 0.10100129, -0.15302617, -0.36517885,  0.0484837 ,  0.02791414,\n",
              "        -0.05609389,  0.260994  ,  0.00066145,  0.09911415,  0.03613018],\n",
              "       [ 0.04961183,  0.06478774, -0.3747214 ,  0.3633066 ,  0.32365763,\n",
              "         0.30154849,  0.09704513, -0.54295007, -0.30878652,  0.02650057],\n",
              "       [-0.0138138 , -0.01179476, -0.48921398,  0.37510184,  0.06127719,\n",
              "         0.15664425,  0.26528852, -0.15351677, -0.00853198, -0.18144052],\n",
              "       [ 0.44986846, -0.23432259,  0.05642556, -0.12366562, -0.2137498 ,\n",
              "         0.08799896,  0.12845404, -0.00999471,  0.04063836, -0.18165266],\n",
              "       [ 0.36746323, -0.01822753, -0.49312501, -0.35722402, -0.35002489,\n",
              "         0.26232601,  0.33110649,  0.26665149,  0.27356961, -0.28251538],\n",
              "       [ 0.34743457, -0.20740536, -0.2072181 ,  0.32955292,  0.11884897,\n",
              "         0.3319328 , -0.24581335, -0.07335061, -0.53033939,  0.13635756],\n",
              "       [-0.1725763 ,  0.41006746, -0.00613227, -0.08319829, -0.22954613,\n",
              "         0.00189605, -0.13045419,  0.33373618, -0.40861262,  0.28482013],\n",
              "       [-0.13664808,  0.12600084,  0.22810277, -0.0183197 , -0.24749097,\n",
              "        -0.03966682,  0.42089488, -0.00893773,  0.1057446 , -0.42967979]])"
            ]
          },
          "metadata": {},
          "execution_count": 15
        }
      ],
      "source": [
        "import numpy as np\n",
        "matrix = np.random.rand(10,10)\n",
        "avg_rows = matrix.mean(axis=1,keepdims=True)\n",
        "res = matrix - avg_rows\n",
        "res"
      ]
    },
    {
      "cell_type": "markdown",
      "metadata": {
        "id": "P-tWECFCE09n"
      },
      "source": [
        "11) Создать матрицу случайных чисел размера 10 на 10 и отнять медиану по столбцам из каждого элемента столбца  "
      ]
    },
    {
      "cell_type": "code",
      "execution_count": null,
      "metadata": {
        "id": "6NMRuuiTE09n",
        "colab": {
          "base_uri": "https://localhost:8080/"
        },
        "outputId": "b8774791-7190-48e4-ce63-7f523fd6697d"
      },
      "outputs": [
        {
          "output_type": "execute_result",
          "data": {
            "text/plain": [
              "array([[-0.35436856, -0.2596185 ,  0.07411972, -0.06412333, -0.13048421,\n",
              "        -0.41427799, -0.70885422, -0.31432115, -0.26871233,  0.14082507],\n",
              "       [ 0.12394406,  0.66526962,  0.31942332,  0.28269012,  0.21618372,\n",
              "        -0.1616853 ,  0.05222748,  0.18784532,  0.19221668,  0.13429025],\n",
              "       [ 0.24923406,  0.13335667, -0.51188291,  0.32081215, -0.20168188,\n",
              "         0.16257817, -0.31458965, -0.53588443,  0.37167283,  0.15060805],\n",
              "       [-0.49486119, -0.2219213 , -0.26731712,  0.02238463, -0.30100987,\n",
              "        -0.00875311,  0.16376073, -0.51240964, -0.01727726,  0.33224789],\n",
              "       [-0.29014874,  0.48634897, -0.46623397,  0.29835113, -0.41865643,\n",
              "         0.00875311, -0.01223673,  0.18063236,  0.16835874,  0.0862081 ],\n",
              "       [-0.02421467,  0.04324905, -0.07349126,  0.36812488,  0.13223831,\n",
              "        -0.56749211,  0.10375304,  0.24017744, -0.19250926, -0.30156552],\n",
              "       [ 0.24297624, -0.0678042 , -0.40645246, -0.04909601,  0.41036051,\n",
              "         0.07726894, -0.248561  ,  0.24748552,  0.01727726, -0.45144   ],\n",
              "       [ 0.0263943 , -0.27090183,  0.26330015, -0.26464636, -0.10082803,\n",
              "         0.12800014,  0.05716694,  0.26662863,  0.41888571, -0.0862081 ],\n",
              "       [-0.60405395,  0.49375434,  0.11565222, -0.02238463,  0.54341408,\n",
              "        -0.05423034,  0.01223673, -0.22095629, -0.21504909, -0.54257215],\n",
              "       [ 0.02421467, -0.04324905,  0.07349126, -0.04198818,  0.10082803,\n",
              "         0.29679197, -0.51780618, -0.18063236, -0.45689483, -0.43342831]])"
            ]
          },
          "metadata": {},
          "execution_count": 17
        }
      ],
      "source": [
        "import numpy as np\n",
        "matrix = np.random.rand(10,10)\n",
        "column_medians = np.median(matrix,axis=0)\n",
        "res = matrix - column_medians\n",
        "res"
      ]
    },
    {
      "cell_type": "markdown",
      "metadata": {
        "id": "2PCjHrNOE09o"
      },
      "source": [
        "12) Создать матрицу случайных чисел 5x5. Добавить к ней столбецы максимумов и минимумов по строкам. Получится матрица 5x7.  "
      ]
    },
    {
      "cell_type": "code",
      "execution_count": null,
      "metadata": {
        "id": "XHbrIOGNE09p",
        "colab": {
          "base_uri": "https://localhost:8080/"
        },
        "outputId": "0f96c521-7a10-482f-9d4f-d68bec100285"
      },
      "outputs": [
        {
          "output_type": "execute_result",
          "data": {
            "text/plain": [
              "array([[0.69995553, 0.03448321, 0.53523763, 0.08719222, 0.53968229,\n",
              "        0.69995553, 0.03448321],\n",
              "       [0.97568339, 0.23825539, 0.79295365, 0.66082115, 0.77463599,\n",
              "        0.97568339, 0.23825539],\n",
              "       [0.049707  , 0.01820456, 0.99743923, 0.75674189, 0.91600908,\n",
              "        0.99743923, 0.01820456],\n",
              "       [0.98509444, 0.23157296, 0.82026925, 0.93414451, 0.33223511,\n",
              "        0.98509444, 0.23157296],\n",
              "       [0.16705201, 0.33818844, 0.95368267, 0.39569118, 0.24749958,\n",
              "        0.95368267, 0.16705201]])"
            ]
          },
          "metadata": {},
          "execution_count": 19
        }
      ],
      "source": [
        "import numpy as np\n",
        "matrix = np.random.rand(5,5)\n",
        "column_max = matrix.max(axis=1,keepdims=True)\n",
        "column_min = matrix.min(axis=1,keepdims=True)\n",
        "res = np.hstack((matrix,column_max,column_min))\n",
        "res"
      ]
    },
    {
      "cell_type": "markdown",
      "metadata": {
        "id": "yw20mvSnE09p"
      },
      "source": [
        "13) Вектор чисел от 1 до 51 преобразовать в вектор нечетных чисел и в вектор четных чисел, поменять их размерности, чтобы получились две матрица. Найти произведение этих матриц. Найти обратную матрицу этого произведения.  "
      ]
    },
    {
      "cell_type": "code",
      "execution_count": null,
      "metadata": {
        "id": "EJf6K-YnE09q",
        "colab": {
          "base_uri": "https://localhost:8080/"
        },
        "outputId": "eceb53e7-74f0-4ad0-fc96-dfec1f9b83c1"
      },
      "outputs": [
        {
          "output_type": "execute_result",
          "data": {
            "text/plain": [
              "array([[2450, 2350, 2250, 2150, 2050, 1950, 1850, 1750, 1650, 1550, 1450,\n",
              "        1350, 1250, 1150, 1050,  950,  850,  750,  650,  550,  450,  350,\n",
              "         250,  150,   50],\n",
              "       [2352, 2256, 2160, 2064, 1968, 1872, 1776, 1680, 1584, 1488, 1392,\n",
              "        1296, 1200, 1104, 1008,  912,  816,  720,  624,  528,  432,  336,\n",
              "         240,  144,   48],\n",
              "       [2254, 2162, 2070, 1978, 1886, 1794, 1702, 1610, 1518, 1426, 1334,\n",
              "        1242, 1150, 1058,  966,  874,  782,  690,  598,  506,  414,  322,\n",
              "         230,  138,   46],\n",
              "       [2156, 2068, 1980, 1892, 1804, 1716, 1628, 1540, 1452, 1364, 1276,\n",
              "        1188, 1100, 1012,  924,  836,  748,  660,  572,  484,  396,  308,\n",
              "         220,  132,   44],\n",
              "       [2058, 1974, 1890, 1806, 1722, 1638, 1554, 1470, 1386, 1302, 1218,\n",
              "        1134, 1050,  966,  882,  798,  714,  630,  546,  462,  378,  294,\n",
              "         210,  126,   42],\n",
              "       [1960, 1880, 1800, 1720, 1640, 1560, 1480, 1400, 1320, 1240, 1160,\n",
              "        1080, 1000,  920,  840,  760,  680,  600,  520,  440,  360,  280,\n",
              "         200,  120,   40],\n",
              "       [1862, 1786, 1710, 1634, 1558, 1482, 1406, 1330, 1254, 1178, 1102,\n",
              "        1026,  950,  874,  798,  722,  646,  570,  494,  418,  342,  266,\n",
              "         190,  114,   38],\n",
              "       [1764, 1692, 1620, 1548, 1476, 1404, 1332, 1260, 1188, 1116, 1044,\n",
              "         972,  900,  828,  756,  684,  612,  540,  468,  396,  324,  252,\n",
              "         180,  108,   36],\n",
              "       [1666, 1598, 1530, 1462, 1394, 1326, 1258, 1190, 1122, 1054,  986,\n",
              "         918,  850,  782,  714,  646,  578,  510,  442,  374,  306,  238,\n",
              "         170,  102,   34],\n",
              "       [1568, 1504, 1440, 1376, 1312, 1248, 1184, 1120, 1056,  992,  928,\n",
              "         864,  800,  736,  672,  608,  544,  480,  416,  352,  288,  224,\n",
              "         160,   96,   32],\n",
              "       [1470, 1410, 1350, 1290, 1230, 1170, 1110, 1050,  990,  930,  870,\n",
              "         810,  750,  690,  630,  570,  510,  450,  390,  330,  270,  210,\n",
              "         150,   90,   30],\n",
              "       [1372, 1316, 1260, 1204, 1148, 1092, 1036,  980,  924,  868,  812,\n",
              "         756,  700,  644,  588,  532,  476,  420,  364,  308,  252,  196,\n",
              "         140,   84,   28],\n",
              "       [1274, 1222, 1170, 1118, 1066, 1014,  962,  910,  858,  806,  754,\n",
              "         702,  650,  598,  546,  494,  442,  390,  338,  286,  234,  182,\n",
              "         130,   78,   26],\n",
              "       [1176, 1128, 1080, 1032,  984,  936,  888,  840,  792,  744,  696,\n",
              "         648,  600,  552,  504,  456,  408,  360,  312,  264,  216,  168,\n",
              "         120,   72,   24],\n",
              "       [1078, 1034,  990,  946,  902,  858,  814,  770,  726,  682,  638,\n",
              "         594,  550,  506,  462,  418,  374,  330,  286,  242,  198,  154,\n",
              "         110,   66,   22],\n",
              "       [ 980,  940,  900,  860,  820,  780,  740,  700,  660,  620,  580,\n",
              "         540,  500,  460,  420,  380,  340,  300,  260,  220,  180,  140,\n",
              "         100,   60,   20],\n",
              "       [ 882,  846,  810,  774,  738,  702,  666,  630,  594,  558,  522,\n",
              "         486,  450,  414,  378,  342,  306,  270,  234,  198,  162,  126,\n",
              "          90,   54,   18],\n",
              "       [ 784,  752,  720,  688,  656,  624,  592,  560,  528,  496,  464,\n",
              "         432,  400,  368,  336,  304,  272,  240,  208,  176,  144,  112,\n",
              "          80,   48,   16],\n",
              "       [ 686,  658,  630,  602,  574,  546,  518,  490,  462,  434,  406,\n",
              "         378,  350,  322,  294,  266,  238,  210,  182,  154,  126,   98,\n",
              "          70,   42,   14],\n",
              "       [ 588,  564,  540,  516,  492,  468,  444,  420,  396,  372,  348,\n",
              "         324,  300,  276,  252,  228,  204,  180,  156,  132,  108,   84,\n",
              "          60,   36,   12],\n",
              "       [ 490,  470,  450,  430,  410,  390,  370,  350,  330,  310,  290,\n",
              "         270,  250,  230,  210,  190,  170,  150,  130,  110,   90,   70,\n",
              "          50,   30,   10],\n",
              "       [ 392,  376,  360,  344,  328,  312,  296,  280,  264,  248,  232,\n",
              "         216,  200,  184,  168,  152,  136,  120,  104,   88,   72,   56,\n",
              "          40,   24,    8],\n",
              "       [ 294,  282,  270,  258,  246,  234,  222,  210,  198,  186,  174,\n",
              "         162,  150,  138,  126,  114,  102,   90,   78,   66,   54,   42,\n",
              "          30,   18,    6],\n",
              "       [ 196,  188,  180,  172,  164,  156,  148,  140,  132,  124,  116,\n",
              "         108,  100,   92,   84,   76,   68,   60,   52,   44,   36,   28,\n",
              "          20,   12,    4],\n",
              "       [  98,   94,   90,   86,   82,   78,   74,   70,   66,   62,   58,\n",
              "          54,   50,   46,   42,   38,   34,   30,   26,   22,   18,   14,\n",
              "          10,    6,    2]])"
            ]
          },
          "metadata": {},
          "execution_count": 21
        }
      ],
      "source": [
        "import numpy as np\n",
        "vector = np.arange(1,52)\n",
        "even_nums = vector[vector % 2 == 0]\n",
        "odd_nums = vector[vector % 2 != 0]\n",
        "even_matrix = even_nums.reshape(-1,1)\n",
        "odd_matrix = odd_nums.reshape(1,-1)\n",
        "product_matrix = np.dot(even_matrix,odd_matrix)\n",
        "square_matrix = product_matrix[:25,:25]\n",
        "reverse_matrix = np.flip(square_matrix)\n",
        "reverse_matrix"
      ]
    },
    {
      "cell_type": "markdown",
      "metadata": {
        "id": "29NpwLTwE09q"
      },
      "source": [
        "14) Создать 8x8 матрицу и заполнить её в шахматном порядке нулями и единицами."
      ]
    },
    {
      "cell_type": "code",
      "execution_count": null,
      "metadata": {
        "id": "Sa8viMA8E09q",
        "colab": {
          "base_uri": "https://localhost:8080/"
        },
        "outputId": "7aa8821d-6fb7-4d73-af8e-54027612649a"
      },
      "outputs": [
        {
          "output_type": "execute_result",
          "data": {
            "text/plain": [
              "array([[0, 1, 0, 1, 0, 1, 0, 1],\n",
              "       [1, 0, 1, 0, 1, 0, 1, 0],\n",
              "       [0, 1, 0, 1, 0, 1, 0, 1],\n",
              "       [1, 0, 1, 0, 1, 0, 1, 0],\n",
              "       [0, 1, 0, 1, 0, 1, 0, 1],\n",
              "       [1, 0, 1, 0, 1, 0, 1, 0],\n",
              "       [0, 1, 0, 1, 0, 1, 0, 1],\n",
              "       [1, 0, 1, 0, 1, 0, 1, 0]])"
            ]
          },
          "metadata": {},
          "execution_count": 30
        }
      ],
      "source": [
        "import numpy as np\n",
        "chessboard = np.full([8,8],0)\n",
        "chessboard[1::2,::2] = 1\n",
        "chessboard[::2,1::2] = 1\n",
        "chessboard"
      ]
    }
  ],
  "metadata": {
    "kernelspec": {
      "display_name": "Python 3 (ipykernel)",
      "language": "python",
      "name": "python3"
    },
    "language_info": {
      "codemirror_mode": {
        "name": "ipython",
        "version": 3
      },
      "file_extension": ".py",
      "mimetype": "text/x-python",
      "name": "python",
      "nbconvert_exporter": "python",
      "pygments_lexer": "ipython3",
      "version": "3.10.1"
    },
    "colab": {
      "provenance": []
    }
  },
  "nbformat": 4,
  "nbformat_minor": 0
}